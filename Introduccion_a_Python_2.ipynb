{
  "nbformat": 4,
  "nbformat_minor": 0,
  "metadata": {
    "colab": {
      "provenance": [],
      "toc_visible": true,
      "include_colab_link": true
    },
    "kernelspec": {
      "name": "python3",
      "display_name": "Python 3"
    },
    "language_info": {
      "name": "python"
    }
  },
  "cells": [
    {
      "cell_type": "markdown",
      "metadata": {
        "id": "view-in-github",
        "colab_type": "text"
      },
      "source": [
        "<a href=\"https://colab.research.google.com/github/nicoalvarez26/Python-Prep/blob/main/Introduccion_a_Python_2.ipynb\" target=\"_parent\"><img src=\"https://colab.research.google.com/assets/colab-badge.svg\" alt=\"Open In Colab\"/></a>"
      ]
    },
    {
      "cell_type": "markdown",
      "source": [
        "# Introducción a la programación y análisis de datos con Python orientado a la producción agropecuaria\n",
        "\n",
        "[![Cronograma](https://img.shields.io/badge/-Cronograma-blue?style=flat&logo=google-docs&logoColor=white)](https://docs.google.com/document/d/1wDjkT1pYXirQgByWfcu82Szsbn8249sRxHX0E7leNog/edit?usp=sharing)\n",
        "[![Canal de Discord](https://img.shields.io/badge/-Discord-blue?style=flat&logo=discord&logoColor=white)](https://discord.gg/WaA2uTp4)\n",
        "[![Video de la clase](https://img.shields.io/badge/-Video%20de%20la%20clase-blue?style=flat&logo=youtube&logoColor=white)](https://youtu.be/_zpvkx66IUk)\n",
        "[![Repositorio de GitHub](https://img.shields.io/badge/-Repositorio%20de%20GitHub-blue?style=flat&logo=github&logoColor=white)](https://github.com/marianobonelli/Introduccion_a_Python_2023)\n",
        "\n",
        "\n",
        "---\n",
        "\n",
        "\n",
        "\n",
        "**Clase 2: Miércoles 08 de noviembre**\n",
        "\n",
        "Control de flujo y funciones:\n",
        "\n",
        "* Control de flujo (if, while, for).\n",
        "\n",
        "* Funciones.\n",
        "\n",
        "\n",
        "---"
      ],
      "metadata": {
        "id": "rMMzXSjZZrIX"
      }
    },
    {
      "cell_type": "markdown",
      "source": [
        "# Control de Flujo\n",
        "Los programas siguen un \"flujo\" definido por el programador. Hasta ahora el flujo del programa siempre fue uno sólo, se ejecuta una instrucción, luego la siguiente, luego la siguiente a esta, etc. Sin embargo es posible realizar tareas diferentes dependiendo de ciertas condiciones, repetir segmentos de código, y modificar el flujo del programa de forma que no sea simplemente una secuencia lineal de instrucciones. Esto permite realizar tareas mucho más complejas, en la cuál el programa tome decisiones respecto a lo que debe hacer en función de la situación.\n",
        "\n",
        "Notar que todas estas estructuras terminan con un \"**:**\" , y la siguiente línea tiene un tab de indentación (como una sangría)."
      ],
      "metadata": {
        "id": "sSFqhMDfFStv"
      }
    },
    {
      "cell_type": "markdown",
      "source": [
        "##   Estructura if\n",
        "\n",
        "El **if** es la estructura básica que le permite al programador analizar si se cumple una condición, y realizar distintas acciones según si eso sucede o no. Las distintas formas de implementar la estructura son las siguientes:\n",
        "\n",
        "```python\n",
        "if (condicion):\n",
        "    #Lo que se hace si se cumple la condición\n",
        "```\n",
        "```python\n",
        "if (condicion):\n",
        "    #Lo que se hace si se cumple la condición\n",
        "else:\n",
        "    #Lo que se hace si no se cumple la condición\n",
        "```\n",
        "```python\n",
        "if (condicion1):\n",
        "    #Lo que se hace si se cumple la condición1\n",
        "elif (condicion2):\n",
        "    #Lo que se hace si no se cumple la condicion1, pero sí la condicion2\n",
        "elif (condicion3):\n",
        "    #Lo que se hace si no se cumple la condicion1 ni la condición2, pero sí la condición3\n",
        "else:\n",
        "    #Lo que se hace si no se cumple ninguna condición\n",
        "```\n",
        "    \n",
        "Se debe prestar especial atención a la indentación/tabulación. Siempre que se define un **if** se crea un bloque de código (un conjunto de instrucciones) que son las que se ejecutan cuando se cumple la condición dada. Este bloque de código debe tener una \"sangría\", de esta forma Python comprende donde empieza y donde termina este bloque. Si se utiliza la \"sangría\" incorrectamente Python indicará que hay un error en el código y no se podrá ejecutar.\n",
        "\n",
        "Siempre se comienza con **if**, después puede haber cualquier cantidad de **elif** (o ninguno) y luego se puede terminar con **else** (o no). Luego del **else** no puede haber más **elif**.\n",
        "\n",
        " ¿Cual será la salida del siguiente programa?"
      ],
      "metadata": {
        "id": "Sk-DAR4MFXHT"
      }
    },
    {
      "cell_type": "code",
      "source": [
        "x = 5\n",
        "y = 6\n",
        "if x == y:\n",
        "    print(x)\n",
        "elif y < 5 or y > 7:\n",
        "    print(x + y)\n",
        "else:\n",
        "    print(y)"
      ],
      "metadata": {
        "id": "wWGBXydLFe__",
        "colab": {
          "base_uri": "https://localhost:8080/"
        },
        "outputId": "bf055210-3bc3-4726-e16a-4b8a6dac4dce"
      },
      "execution_count": 1,
      "outputs": [
        {
          "output_type": "stream",
          "name": "stdout",
          "text": [
            "6\n"
          ]
        }
      ]
    },
    {
      "cell_type": "code",
      "source": [
        "y = int(input(\"Ingrese el valor de y\"))\n",
        "if y == 13:\n",
        "    print(\"Adivinamos el valor de y!\")\n",
        "\n",
        "x = int(input(\"Ingrese el valor de x\"))\n",
        "if x == 93:\n",
        "    print(\"Adivinamos el valor de x!\")\n",
        "else:\n",
        "    print(\"No adivinamos el valor de x  :(\")\n",
        "\n",
        "if x > y:\n",
        "    print(\"x es mayor que y\")\n",
        "elif x < y:\n",
        "    print(\"y es mayor que x\")\n",
        "elif x == y:\n",
        "    print(\"x e y son iguales\")\n",
        "else:\n",
        "    print(\"que anda pasando?\")"
      ],
      "metadata": {
        "id": "ENYdBzmQFhfF",
        "colab": {
          "base_uri": "https://localhost:8080/"
        },
        "outputId": "4678d53c-ca66-4c6b-dd65-22b2271079e1"
      },
      "execution_count": null,
      "outputs": [
        {
          "output_type": "stream",
          "name": "stdout",
          "text": [
            "Ingrese el valor de y13\n",
            "Adivinamos el valor de y!\n"
          ]
        }
      ]
    },
    {
      "cell_type": "markdown",
      "source": [
        "**Tips**\n",
        "\n",
        "Para indentar y desindentar, se usa la tecla *tabulador* junto con la tecla *shift/mayus*. Recomendamos que busquen en su teclado esta tecla y si no la conocen, pueder pedirle ayuda a Google.\n",
        "\n",
        "Si se quiere añadir o quitar tabulaciones a varias líneas, pueden seleccionarlas primero."
      ],
      "metadata": {
        "id": "wYIlKfGgFptj"
      }
    },
    {
      "cell_type": "markdown",
      "source": [
        "### Ejemplo de un if para definir la clase textural:\n",
        "\n",
        "<img src=\"https://www.researchgate.net/profile/Ty-Ferre/publication/279631053/figure/fig2/AS:340509945024517@1458195305579/USDA-Soil-Texture-Triangle.png\" height=\"600\" alt = \"Code\" title=\"Code\">"
      ],
      "metadata": {
        "id": "AnHb_4EiMisa"
      }
    },
    {
      "cell_type": "code",
      "source": [
        "## Adaptado de: https://soilwater.github.io/pynotes-agriscience/notebooks/soil_textural_class.html\n",
        "\n",
        "# Ingresos de porcentaje de arena y arcilla\n",
        "arena = float(input(\"Ingrese el porcentaje de arena: \"))\n",
        "arcilla = float(input(\"Ingrese el porcentaje de arcilla: \"))\n",
        "limo = 100 - arena - arcilla\n",
        "\n",
        "# Aquí se comprueba si los valores son válidos\n",
        "if arena + arcilla > 100 or arena < 0 or arcilla < 0:\n",
        "    print('Los porcentajes suman más del 100% o hay valores negativos.')\n",
        "else:\n",
        "    # Se determina la clase textural según las reglas dadas\n",
        "    if limo + 1.5*arcilla < 15:\n",
        "        clase_textural = 'arena'\n",
        "\n",
        "    elif limo + 1.5*arcilla >= 15 and limo + 2*arcilla < 30:\n",
        "        clase_textural = 'arena franca'\n",
        "\n",
        "    elif (arcilla >= 7 and arcilla < 20 and arena > 52 and limo + 2*arcilla >= 30) or (arcilla < 7 and limo < 50 and limo + 2*arcilla >= 30):\n",
        "        clase_textural = 'franco arenoso'\n",
        "\n",
        "    elif arcilla >= 7 and arcilla < 27 and limo >= 28 and limo < 50 and arena <= 52:\n",
        "        clase_textural = 'franco'\n",
        "\n",
        "    elif (limo >= 50 and arcilla >= 12 and arcilla < 27) or (limo >= 50 and limo < 80 and arcilla < 12):\n",
        "        clase_textural = 'franco limoso'\n",
        "\n",
        "    elif limo >= 80 and arcilla < 12:\n",
        "        clase_textural = 'limo'\n",
        "\n",
        "    elif arcilla >= 20 and arcilla < 35 and limo < 28 and arena > 45:\n",
        "        clase_textural = 'franco arcillo arenoso'\n",
        "\n",
        "    elif arcilla >= 27 and arcilla < 40 and arena > 20 and arena <= 45:\n",
        "        clase_textural = 'franco arcilloso'\n",
        "\n",
        "    elif arcilla >= 27 and arcilla < 40 and arena <= 20:\n",
        "        clase_textural = 'franco arcillo limoso'\n",
        "\n",
        "    elif arcilla >= 35 and arena > 45:\n",
        "        clase_textural = 'arcilla arenosa'\n",
        "\n",
        "    elif arcilla >= 40 and limo >= 40:\n",
        "        clase_textural = 'arcilla limosa'\n",
        "\n",
        "    elif arcilla >= 40 and arena <= 45 and limo < 40:\n",
        "        clase_textural = 'arcilla'\n",
        "\n",
        "    else:\n",
        "        clase_textural = 'no aplicable'\n",
        "\n",
        "    # Imprime la clase textural del suelo\n",
        "    print('La clase textural del suelo es:', clase_textural)"
      ],
      "metadata": {
        "id": "d3CroswyLL-9"
      },
      "execution_count": null,
      "outputs": []
    },
    {
      "cell_type": "markdown",
      "source": [
        "##  Estructura while\n",
        "\n",
        "La estructura **while** permite implementar *ciclos* en nuestro programa (también llamados *loops* o *bucles*). Es decir, repetir una porción del código una y otra vez en tanto se verifique cierta condición. La estructura básica es la siguiente:\n",
        "\n",
        "\n",
        "\n",
        "```python\n",
        "while (condicion):\n",
        "    #Lo que se hace mientras que se cumpla la condicion\n",
        "    #Debe incluirse una operación que modifique la condición\n",
        "```\n",
        "\n",
        "En el siguiente bloque de código pueden ver a esta estructura en acción:"
      ],
      "metadata": {
        "id": "6lqd0eFyFrpr"
      }
    },
    {
      "cell_type": "code",
      "source": [
        "x = 1\n",
        "while x < 10:\n",
        "    print(x)\n",
        "    x += 1\n",
        "\n",
        "print('Termina el while')\n",
        "\n",
        "print(\"Continuo con el resto del programa\")"
      ],
      "metadata": {
        "id": "1CAdXND0Fw1m",
        "colab": {
          "base_uri": "https://localhost:8080/"
        },
        "outputId": "133929f1-980d-44b5-afad-913f9c5701c2"
      },
      "execution_count": 1,
      "outputs": [
        {
          "output_type": "stream",
          "name": "stdout",
          "text": [
            "1\n",
            "2\n",
            "3\n",
            "4\n",
            "5\n",
            "6\n",
            "7\n",
            "8\n",
            "9\n",
            "Termina el while\n",
            "Continuo con el resto del programa\n"
          ]
        }
      ]
    },
    {
      "cell_type": "markdown",
      "source": [
        "Es importante tener en cuenta que la condición se evalúa sólo al principio del ciclo y no se volverá a evaluar hasta no terminar de ejecutar todas las instrucciones contenidas en el bloque **while**.\n",
        "\n",
        "Al usar una variable auxiliar para contar la cantidad de repeticiones del while, es recomendable no modificar su valor dentro del bloque excepto para incrementar/decrementar su valor acordemente. Esto es porque se corre el riesgo de que la condición siempre sea *True* y el **while** se ejecute infinitamente, además es dificil darse cuenta de que la cantidad de ciclos será de hecho la que queremos.\n",
        "\n",
        "¿Qué realiza este programa?"
      ],
      "metadata": {
        "id": "jbwVm7dlF0-B"
      }
    },
    {
      "cell_type": "code",
      "source": [
        "nota = int( input('Ingrese un número del 1 al 10: ') )\n",
        "\n",
        "while nota < 1 or nota > 10:\n",
        "  print('Fuera de rango!')\n",
        "  nota = int( input('Ingrese un número del 1 al 10: ') )\n",
        "\n",
        "print(\"La nota es mayor a 4?\", nota >= 4 )"
      ],
      "metadata": {
        "id": "Mxy5MdgpF3C9",
        "colab": {
          "base_uri": "https://localhost:8080/"
        },
        "outputId": "28d6a0a6-f7a5-479c-a32f-5d9b334269d9"
      },
      "execution_count": 3,
      "outputs": [
        {
          "output_type": "stream",
          "name": "stdout",
          "text": [
            "Ingrese un número del 1 al 10: 11\n",
            "Fuera de rango!\n",
            "Ingrese un número del 1 al 10: 11\n",
            "Fuera de rango!\n",
            "Ingrese un número del 1 al 10: 2\n",
            "La nota es mayor a 4? False\n"
          ]
        }
      ]
    },
    {
      "cell_type": "markdown",
      "source": [
        "**Prolijidad y buenas prácticas**\n",
        "\n",
        "Recordar: siempre que se excriba un bucle while, se debe modificar en algún punto la condición que controla su ejecución. Bajo ninguna circunstancia puede entregarse un programa con bucles cuyo fin no es seguro. ¿O acaso a alguien le gusta que su computadora se quede colgada?"
      ],
      "metadata": {
        "id": "lqVEOQ1KF3vT"
      }
    },
    {
      "cell_type": "markdown",
      "source": [
        "### Ejemplo de un ciclo while para determinar días a cosecha\n",
        "\n",
        "Supongamos que queremos simular el crecimiento de un cultivo de maíz. Podríamos usar un bucle while para incrementar la altura del maíz día a día hasta que alcance una altura típica para la cosecha."
      ],
      "metadata": {
        "id": "tXKIFVMosMNv"
      }
    },
    {
      "cell_type": "code",
      "source": [
        "# Suponemos que el maíz crece aproximadamente 3 cm por día\n",
        "tasa_crecimiento_diario = 3  # cm por día\n",
        "altura_objetivo = 250  # altura objetivo para la cosecha en cm\n",
        "\n",
        "# Altura inicial del maíz en el momento de la siembra\n",
        "altura_actual = 10  # cm\n",
        "\n",
        "# Número de días desde la siembra\n",
        "dias = 0\n",
        "\n",
        "# Bucle while para simular el crecimiento diario\n",
        "while altura_actual < altura_objetivo:\n",
        "    # Simula el paso de un día\n",
        "    dias += 1\n",
        "    altura_actual += tasa_crecimiento_diario\n",
        "\n",
        "    # Imprime el estado actual del cultivo\n",
        "    print(f\"Día {dias}: El maíz mide ahora {altura_actual} cm\")\n",
        "\n",
        "# Cuando el bucle termina, significa que el maíz está listo para cosechar\n",
        "print(f\"El maíz está listo para la cosecha después de {dias} días!\")"
      ],
      "metadata": {
        "id": "qKR3zqW_rQLT",
        "colab": {
          "base_uri": "https://localhost:8080/"
        },
        "outputId": "fe011aa3-97c4-4949-ae23-0b6444a27b27"
      },
      "execution_count": 4,
      "outputs": [
        {
          "output_type": "stream",
          "name": "stdout",
          "text": [
            "Día 1: El maíz mide ahora 13 cm\n",
            "Día 2: El maíz mide ahora 16 cm\n",
            "Día 3: El maíz mide ahora 19 cm\n",
            "Día 4: El maíz mide ahora 22 cm\n",
            "Día 5: El maíz mide ahora 25 cm\n",
            "Día 6: El maíz mide ahora 28 cm\n",
            "Día 7: El maíz mide ahora 31 cm\n",
            "Día 8: El maíz mide ahora 34 cm\n",
            "Día 9: El maíz mide ahora 37 cm\n",
            "Día 10: El maíz mide ahora 40 cm\n",
            "Día 11: El maíz mide ahora 43 cm\n",
            "Día 12: El maíz mide ahora 46 cm\n",
            "Día 13: El maíz mide ahora 49 cm\n",
            "Día 14: El maíz mide ahora 52 cm\n",
            "Día 15: El maíz mide ahora 55 cm\n",
            "Día 16: El maíz mide ahora 58 cm\n",
            "Día 17: El maíz mide ahora 61 cm\n",
            "Día 18: El maíz mide ahora 64 cm\n",
            "Día 19: El maíz mide ahora 67 cm\n",
            "Día 20: El maíz mide ahora 70 cm\n",
            "Día 21: El maíz mide ahora 73 cm\n",
            "Día 22: El maíz mide ahora 76 cm\n",
            "Día 23: El maíz mide ahora 79 cm\n",
            "Día 24: El maíz mide ahora 82 cm\n",
            "Día 25: El maíz mide ahora 85 cm\n",
            "Día 26: El maíz mide ahora 88 cm\n",
            "Día 27: El maíz mide ahora 91 cm\n",
            "Día 28: El maíz mide ahora 94 cm\n",
            "Día 29: El maíz mide ahora 97 cm\n",
            "Día 30: El maíz mide ahora 100 cm\n",
            "Día 31: El maíz mide ahora 103 cm\n",
            "Día 32: El maíz mide ahora 106 cm\n",
            "Día 33: El maíz mide ahora 109 cm\n",
            "Día 34: El maíz mide ahora 112 cm\n",
            "Día 35: El maíz mide ahora 115 cm\n",
            "Día 36: El maíz mide ahora 118 cm\n",
            "Día 37: El maíz mide ahora 121 cm\n",
            "Día 38: El maíz mide ahora 124 cm\n",
            "Día 39: El maíz mide ahora 127 cm\n",
            "Día 40: El maíz mide ahora 130 cm\n",
            "Día 41: El maíz mide ahora 133 cm\n",
            "Día 42: El maíz mide ahora 136 cm\n",
            "Día 43: El maíz mide ahora 139 cm\n",
            "Día 44: El maíz mide ahora 142 cm\n",
            "Día 45: El maíz mide ahora 145 cm\n",
            "Día 46: El maíz mide ahora 148 cm\n",
            "Día 47: El maíz mide ahora 151 cm\n",
            "Día 48: El maíz mide ahora 154 cm\n",
            "Día 49: El maíz mide ahora 157 cm\n",
            "Día 50: El maíz mide ahora 160 cm\n",
            "Día 51: El maíz mide ahora 163 cm\n",
            "Día 52: El maíz mide ahora 166 cm\n",
            "Día 53: El maíz mide ahora 169 cm\n",
            "Día 54: El maíz mide ahora 172 cm\n",
            "Día 55: El maíz mide ahora 175 cm\n",
            "Día 56: El maíz mide ahora 178 cm\n",
            "Día 57: El maíz mide ahora 181 cm\n",
            "Día 58: El maíz mide ahora 184 cm\n",
            "Día 59: El maíz mide ahora 187 cm\n",
            "Día 60: El maíz mide ahora 190 cm\n",
            "Día 61: El maíz mide ahora 193 cm\n",
            "Día 62: El maíz mide ahora 196 cm\n",
            "Día 63: El maíz mide ahora 199 cm\n",
            "Día 64: El maíz mide ahora 202 cm\n",
            "Día 65: El maíz mide ahora 205 cm\n",
            "Día 66: El maíz mide ahora 208 cm\n",
            "Día 67: El maíz mide ahora 211 cm\n",
            "Día 68: El maíz mide ahora 214 cm\n",
            "Día 69: El maíz mide ahora 217 cm\n",
            "Día 70: El maíz mide ahora 220 cm\n",
            "Día 71: El maíz mide ahora 223 cm\n",
            "Día 72: El maíz mide ahora 226 cm\n",
            "Día 73: El maíz mide ahora 229 cm\n",
            "Día 74: El maíz mide ahora 232 cm\n",
            "Día 75: El maíz mide ahora 235 cm\n",
            "Día 76: El maíz mide ahora 238 cm\n",
            "Día 77: El maíz mide ahora 241 cm\n",
            "Día 78: El maíz mide ahora 244 cm\n",
            "Día 79: El maíz mide ahora 247 cm\n",
            "Día 80: El maíz mide ahora 250 cm\n",
            "El maíz está listo para la cosecha después de 80 días!\n"
          ]
        }
      ]
    },
    {
      "cell_type": "markdown",
      "source": [
        "## Estructura for\n",
        "\n",
        "La estructura del **for** permite realizar una serie de acciones con una variable, que cambia su valor en cada repetición (también llamada *iteración*).\n",
        "\n",
        "```python\n",
        "for (variable) in (conjunto de valores):\n",
        "    #Lo que quieras hacer con tu variable\n",
        "```\n",
        "\n",
        "Veámoslo en un ejemplo de código:"
      ],
      "metadata": {
        "id": "aJKigKoFF7Ol"
      }
    },
    {
      "cell_type": "code",
      "source": [
        "for i in range(15):\n",
        "    print(i)"
      ],
      "metadata": {
        "id": "l1OjSwQnF-t9"
      },
      "execution_count": null,
      "outputs": []
    },
    {
      "cell_type": "markdown",
      "source": [
        "La instrucción `range(a,b,d)` genera los valores desde *a* hasta *b* (sin incluir) con incrementos de *d*, por ejemplo el siguiente codigo generara los numeros pares entre 0 y 10:"
      ],
      "metadata": {
        "id": "Zy2mj6ARGAVP"
      }
    },
    {
      "cell_type": "code",
      "source": [
        "for x in range(0,10,2):\n",
        "    print(x)"
      ],
      "metadata": {
        "id": "r2LWUDkxGC74",
        "colab": {
          "base_uri": "https://localhost:8080/"
        },
        "outputId": "53c85c3b-85fa-4364-a5bd-6bfb73fc5ef8"
      },
      "execution_count": 5,
      "outputs": [
        {
          "output_type": "stream",
          "name": "stdout",
          "text": [
            "0\n",
            "2\n",
            "4\n",
            "6\n",
            "8\n"
          ]
        }
      ]
    },
    {
      "cell_type": "code",
      "source": [
        "init = int(input(\"Ingrese el inicio:\"))\n",
        "fin = int(input(\"Ingrese el fin:\"))\n",
        "step = int(input(\"Ingrese el salto:\"))\n",
        "\n",
        "for x in range(init, fin, step):\n",
        "    print(\"x =\", x)"
      ],
      "metadata": {
        "id": "8sztkJw3GHiE",
        "colab": {
          "base_uri": "https://localhost:8080/"
        },
        "outputId": "f443034e-6cd1-43a8-bc39-fef71ef24c80"
      },
      "execution_count": 6,
      "outputs": [
        {
          "output_type": "stream",
          "name": "stdout",
          "text": [
            "Ingrese el inicio:2\n",
            "Ingrese el fin:10\n",
            "Ingrese el salto:2\n",
            "x = 2\n",
            "x = 4\n",
            "x = 6\n",
            "x = 8\n"
          ]
        }
      ]
    },
    {
      "cell_type": "markdown",
      "source": [
        "Al utilizar la instrucción **range( )** no es necesario proporcionar siempre los 3 parámetros. Observen qué sucede cuando se proporcionan solamente 1 o 2 parámetros:"
      ],
      "metadata": {
        "id": "arWMp9E8GSzF"
      }
    },
    {
      "cell_type": "code",
      "source": [
        "print(\"range(5):\")\n",
        "for x in range(5):\n",
        "    print(x)\n",
        "\n",
        "print(\"range(10, 15):\")\n",
        "for x in range(10, 15):\n",
        "    print(x)"
      ],
      "metadata": {
        "id": "F6gaJ4rOGTo4"
      },
      "execution_count": null,
      "outputs": []
    },
    {
      "cell_type": "markdown",
      "source": [
        "### Ejemplo de un ciclo for para calcular el rendimiento total\n",
        "\n",
        "Supongamos que queremos calcular el rendimiento total esperado de un conjunto de parcelas de tierra cultivadas con trigo, donde cada parcela tiene una estimación de rendimiento por hectárea.\n",
        "\n",
        "El siguiente ejemplo de código en Python utiliza un ciclo for para iterar sobre una lista de rendimientos estimados de varias parcelas:"
      ],
      "metadata": {
        "id": "kvnNb5Sos7xk"
      }
    },
    {
      "cell_type": "code",
      "source": [
        "# Lista de rendimientos estimados por hectárea (en quintales) para 5 parcelas de tierra\n",
        "rendimientos_por_hectarea = [7.5, 8.2, 6.8, 7.0, 8.5]\n",
        "\n",
        "# Suponemos que el tamaño de cada parcela es de 2 hectáreas\n",
        "tamaño_parcela = 2  # en hectáreas\n",
        "\n",
        "# Inicializamos el rendimiento total a 0\n",
        "rendimiento_total = 0\n",
        "\n",
        "# Utilizamos un ciclo for para calcular el rendimiento total\n",
        "for rendimiento in rendimientos_por_hectarea:\n",
        "    rendimiento_total_parcela = rendimiento * tamaño_parcela\n",
        "    rendimiento_total += rendimiento_total_parcela\n",
        "    print(f\"Parcela con rendimiento por hectárea de {rendimiento} quintales:\")\n",
        "    print(f\"Rendimiento total para la parcela de {tamaño_parcela} hectáreas: {rendimiento_total_parcela} quintales\\n\")\n",
        "\n",
        "# Mostramos el rendimiento total de todas las parcelas\n",
        "print(f\"El rendimiento total estimado de todas las parcelas es: {rendimiento_total} quintales\")\n"
      ],
      "metadata": {
        "id": "1KUaYAnqtoa_"
      },
      "execution_count": null,
      "outputs": []
    },
    {
      "cell_type": "markdown",
      "source": [
        "# Funciones\n",
        "\n",
        "Podemos pensar que una función es como tomar un conjunto de instrucciones y empaquetarlas bajo el mismo nombre, es como un pequeño programa dentro del programa, una manera de crear nuestras propias instrucciones. Las funciones son bloques que nos permiten acortar el código, no repitiendo estructuras que necesitamos utilizar mucho. Al igual que los programas las funciones tienen un *input* y un *output*: el input son las variables de entrada y su output es el valor o valores que devuelven.\n",
        "\n",
        "Por ejemplo, supongamos que frecuentemente necesito calcular las ganancias totales generadas por cierto producto que se encuentra a la venta en mi negocio. Cada vez que quiera realizar este cálculo tendré que obtener el costo de venta, restarle el costo de fabricación y multiplicarlo por la cantidad de ventas. Usando una función puedo crear mi propia instrucción a la que se le ingrese el código de producto y devuelva el resultado. Así puedo escribir el nombre de la función cada vez que quiera hacer este cálculo sin tener que escribir nuevamente el procedimiento completo.\n",
        "\n",
        "En Python las funciones se implementan de la siguiente forma:\n",
        "\n",
        "```python\n",
        "def miFuncion( a , b , c , ...):\n",
        "    \n",
        "    #Hago lo que necesite con las variables a, b, c, ...\n",
        "    \n",
        "    return x , y , z , ...\n",
        "```\n",
        "En este ejemplo, el nombre de la función es `miFuncion`, los parámetros de entrada son las variables `a , b , c , ...` que se indican entre paréntesis, y los parámetros que la función devuelve son `x , y , z , ...` que se indican con la instrucción **return**.\n",
        "\n",
        "En el caso de que la función no necesite recibir información, los paréntesis se deben dejar vacíos. Al ejecutar la función no hay que olvidarse de escribir estos paréntesis, incluso aunque estén vacíos. Es la forma que tiene Python de diferenciar variables de funciones:"
      ],
      "metadata": {
        "id": "lz6Wp_0aGhSt"
      }
    },
    {
      "cell_type": "code",
      "source": [
        "def saludar():\n",
        "    print( \"¡Hola! Que tengas un buen día :)\")\n",
        "\n",
        "print(\"A continuación se imprimirán tres saludos:\")\n",
        "saludar()\n",
        "saludar()\n",
        "saludar()"
      ],
      "metadata": {
        "id": "9bHpYFBkGlR8"
      },
      "execution_count": null,
      "outputs": []
    },
    {
      "cell_type": "markdown",
      "source": [
        "Noten que no siempre es necesario poner la instrucción **return** al final de la función. En este caso la función termina cuando finaliza el bloque indentado (con sangría).\n",
        "\n",
        "Es importante tener en cuenta que la *definición* de la función no provoca ninguna acción, solamente le indica a la computadora que la próxima vez que se escriba el nombre de la función, esta debe realizar las instrucciones indicadas por la definición. En consecuencia, en preferible escribir todas las definiciones de funciones al inicio del programa, así estarán definidas para cuando se las quiera ejecutar más adelante.\n",
        "\n",
        "Veamos un ejemplo:"
      ],
      "metadata": {
        "id": "APXn4gKvGrH2"
      }
    },
    {
      "cell_type": "code",
      "source": [
        "def suma(a, b):\n",
        "    s = a + b\n",
        "    return s\n",
        "\n",
        "z = suma(3, 4)\n",
        "print(\"3 + 4 =\", z)\n",
        "\n",
        "x = int(input(\"Ingrese el primer sumando: \"))\n",
        "y = int(input(\"Ingrese el segundo sumando: \"))\n",
        "z = suma(x, y)\n",
        "print(\"x + y =\", z)"
      ],
      "metadata": {
        "id": "iMRTJCeTGt0z",
        "colab": {
          "base_uri": "https://localhost:8080/"
        },
        "outputId": "9a0971a0-5041-462a-a899-ca6c7a60f13b"
      },
      "execution_count": 8,
      "outputs": [
        {
          "output_type": "stream",
          "name": "stdout",
          "text": [
            "3 + 4 = 7\n",
            "Ingrese el primer sumando: 2\n",
            "Ingrese el segundo sumando: 3\n",
            "x + y = 5\n"
          ]
        }
      ]
    },
    {
      "cell_type": "markdown",
      "source": [
        "En este ejemplo podemos ver que los nombres que le damos a las variables de input (`a, b`) son utilizados de forma interna a la función. Cuando ejecutamos la función con los valores `3` y `4`, las variables pasan a tomar estos valores y luego se ejecutan las instrucciones correspondientes. Cuando ejecutamos la función con los parámetros `x, y` lo que sucede es que `a` y `b` copian los valores de estas variables indicadas.\n",
        "\n",
        "La instrucción **return** sirve para indicar el resultado que la función \"devuelve\". Una vez que se alcanza la instrucción **return** la función termina y devuelve el valor indicado. En general es preferible devolver información usando **return** antes que imprimirla usando **print** ya que esto permite reutilizar la función para una cantidad de casos mayor, donde no siempre quiero mostrar el resultado en pantalla, aunque queda a criterio de cada uno para lo que necesite.\n",
        "\n",
        "Al concepto de función también podemos combinarlo con las estructuras que vimos previamente:"
      ],
      "metadata": {
        "id": "D5jtuTmpGuSw"
      }
    },
    {
      "cell_type": "code",
      "source": [
        "def chequarContraseña(c):\n",
        "    if c == \"Secreto\":\n",
        "        resultado = True\n",
        "    else:\n",
        "        resultado = False\n",
        "    return resultado\n",
        "\n",
        "\n",
        "ingresado = input(\"Ingrese contraseña: \")\n",
        "while not chequarContraseña(ingresado):\n",
        "    ingresado = input(\"Contraseña incorrecta. Ingrese de nuevo:\")\n",
        "else:\n",
        "    print(\"Contraseña correcta.\")"
      ],
      "metadata": {
        "id": "IvMEDD1eGwQp"
      },
      "execution_count": null,
      "outputs": []
    },
    {
      "cell_type": "markdown",
      "source": [
        "¿Se dieron cuenta que la forma que usamos para imprimir una variable es una función? **print**( ... ) lo que hace es llamar a una función ya creada que está en el estándar de Python y permite que mostremos el contendido que se le pase como parámetro a la función."
      ],
      "metadata": {
        "id": "XlD7LLgvGyX-"
      }
    },
    {
      "cell_type": "markdown",
      "source": [
        "# Minidesafios"
      ],
      "metadata": {
        "id": "L25loot_vl4T"
      }
    },
    {
      "cell_type": "markdown",
      "source": [
        "## Minidesafío if:\n"
      ],
      "metadata": {
        "id": "STJPgikpwRt_"
      }
    },
    {
      "cell_type": "markdown",
      "source": [
        "Contexto: Estás monitoreando la temperatura para evitar el estrés térmico en un invernadero. Si la temperatura supera los 30°C, se debe activar el sistema de enfriamiento.\n",
        "\n",
        "Desafío: Escribe un programa en Python que tome como entrada la temperatura actual del invernadero. Usa una estructura if para verificar si la temperatura es demasiado alta y, en ese caso, imprime un mensaje para activar el sistema de enfriamiento.\n",
        "\n",
        "Ejemplo de salida esperada si la temperatura es 32°C:\n",
        "\n",
        "\n",
        "\n",
        "```yaml\n",
        "La temperatura actual es 32°C. Activar el sistema de enfriamiento.\n",
        "```"
      ],
      "metadata": {
        "id": "S7g7bxl--Rn9"
      }
    },
    {
      "cell_type": "code",
      "source": [
        "#Ingreso de temperatura\n",
        "Temperatura = int(input(\"Ingrese el valor de y:\"))\n",
        "\n",
        "if (Temperatura > 32):\n",
        "   print ('La temperatura actual es mayor a 32°C, activar sistema de enfriamento')\n",
        "\n",
        "elif (Temperatura < 32):\n",
        "   print ('La temperatura esta en el rango normal')\n"
      ],
      "metadata": {
        "id": "c6z1lBRQwf0W",
        "colab": {
          "base_uri": "https://localhost:8080/"
        },
        "outputId": "43e98304-067c-439a-ad52-fb788366946e"
      },
      "execution_count": 23,
      "outputs": [
        {
          "output_type": "stream",
          "name": "stdout",
          "text": [
            "Ingrese el valor de y:30\n",
            "La temperatura esta en el rango normal\n"
          ]
        }
      ]
    },
    {
      "cell_type": "markdown",
      "source": [
        "Desafío: Realizar un programa que revise si una nota está aprobada (es decir si es mayor o igual a 4) utilizando un if/else. La nota será ingresada por el usuario usando input()."
      ],
      "metadata": {
        "id": "doz8Xh6N9EVh"
      }
    },
    {
      "cell_type": "code",
      "source": [
        "# Escribe el script a continuación:\n",
        "\n"
      ],
      "metadata": {
        "id": "_aSQ-lKw9Jjf"
      },
      "execution_count": null,
      "outputs": []
    },
    {
      "cell_type": "markdown",
      "source": [
        "Desafío: Realizar un programa que convierta una nota porcentual del 0 al 100 a una letra entre A y F de acuerdo a la siguiente conversión:\n",
        "\n",
        "```yaml\n",
        "A: 90–100\n",
        "B: 80–89\n",
        "C: 70–79\n",
        "D: 60–69\n",
        "F: 0–59\n",
        "```\n"
      ],
      "metadata": {
        "id": "TVj-eXok9J96"
      }
    },
    {
      "cell_type": "code",
      "source": [
        "# Escribe el script a continuación:\n",
        "\n"
      ],
      "metadata": {
        "id": "r3Rg33ct9K3B"
      },
      "execution_count": null,
      "outputs": []
    },
    {
      "cell_type": "markdown",
      "source": [
        "## Minidesafío while:\n",
        "\n"
      ],
      "metadata": {
        "id": "Q-KfdMgyv79A"
      }
    },
    {
      "cell_type": "markdown",
      "source": [
        "Contexto: Tienes un tanque de agua para riego que se está llenando. Sabes que el tanque tiene una capacidad de 1000 litros y que la tasa de flujo hacia el tanque es de 100 litros por hora.\n",
        "\n",
        "Desafío: Escribe un script que simule el tiempo que toma llenar el tanque. Usa un bucle while para incrementar la cantidad de agua en el tanque hasta que se llene. Imprime un mensaje cada hora que indique la cantidad de agua en el tanque.\n",
        "\n",
        "Ejemplo de salida esperada:\n",
        "\n",
        "\n",
        "\n",
        "```yaml\n",
        "1 hora: El tanque tiene 100 litros.\n",
        "2 horas: El tanque tiene 200 litros.\n",
        "...\n",
        "10 horas: El tanque tiene 1000 litros. El tanque está ahora lleno.\n",
        "```\n"
      ],
      "metadata": {
        "id": "LgpYAwGs-PRa"
      }
    },
    {
      "cell_type": "code",
      "source": [
        "# Escribe el script a continuación:\n",
        "\n"
      ],
      "metadata": {
        "id": "YuAcEldIwlcM"
      },
      "execution_count": null,
      "outputs": []
    },
    {
      "cell_type": "markdown",
      "source": [
        "Desafío: Implementar un programa que reciba 2 números (A y B), y luego imprima en pantalla la secuencia de números enteros desde A hasta B. En el caso de que B sea menor que A, se debe repetir el pedido de B hasta que sea válido ( B $\\geq$ A )."
      ],
      "metadata": {
        "id": "Hnlot4369rcn"
      }
    },
    {
      "cell_type": "code",
      "source": [
        "# Escribe el script a continuación:\n",
        "\n"
      ],
      "metadata": {
        "id": "GHy9IAJo9wEl"
      },
      "execution_count": null,
      "outputs": []
    },
    {
      "cell_type": "markdown",
      "source": [
        "Desafío: Implementar un programa que muestre la siguiente secuencia:\n",
        "\n",
        "  1, 2, 3, 4, 5, 4, 3, 2, 1, 0\n",
        "\n",
        "  **Para un desafío mayor:** Utilizar 1 solo *while*, 1 solo *if* y 1 solo *else*. Es recomendable que la variable usada para contar los pasos se mantenga contando siempre de la misma forma."
      ],
      "metadata": {
        "id": "JYUlzHte9wP0"
      }
    },
    {
      "cell_type": "code",
      "source": [
        "# Escribe el script a continuación:\n",
        "\n"
      ],
      "metadata": {
        "id": "LitOeAIz9xap"
      },
      "execution_count": null,
      "outputs": []
    },
    {
      "cell_type": "markdown",
      "source": [
        "## Minidesafío for:\n",
        "\n"
      ],
      "metadata": {
        "id": "MJeILxJ4wF2B"
      }
    },
    {
      "cell_type": "markdown",
      "source": [
        "Contexto: Eres un agricultor que planea sembrar una hilera de plantas con espacios iguales entre ellas. Dispones de 20 semillas para sembrar en una hilera de 100 metros de largo.\n",
        "\n",
        "Desafío: Escribe un programa que calcule y muestre las posiciones exactas (en metros) donde cada semilla debe ser plantada a lo largo de la hilera. Usa un ciclo for con range para iterar sobre el número de semillas y calcular las posiciones.\n",
        "\n",
        "Ejemplo de salida esperada:\n",
        "\n",
        "\n",
        "\n",
        "```yaml\n",
        "Planta la semilla 1 en la posición 5.0m.\n",
        "Planta la semilla 2 en la posición 10.0m.\n",
        "...\n",
        "Planta la semilla 20 en la posición 100.0m.\n",
        "```\n"
      ],
      "metadata": {
        "id": "wsrZA1Ef-UF3"
      }
    },
    {
      "cell_type": "code",
      "source": [
        "# Escribe el script a continuación:\n",
        "\n"
      ],
      "metadata": {
        "id": "tLNM1xxiwmEx"
      },
      "execution_count": null,
      "outputs": []
    },
    {
      "cell_type": "markdown",
      "source": [
        "Desafío: Realizar un programa para controlar el sistema de impresión de etiquetas con códigos de barras en un supermercado. Primero se debe ingresar la cantidad de productos diferentes que necesitan etiquetas. Luego, para cada producto, se ingresa el código a imprimir y la cantidad de veces que hay que imprimirlo. Posteriormente el programa imprimirá dicho código.\n",
        "\n",
        "![Barcode Printer](https://raw.githubusercontent.com/IEEESBITBA/Curso-Python/master/_assets/barcode_printer.jpg)\n",
        "\n",
        "Imprimir en pantalla los códigos solicitados la cantidad requerida de veces.\n",
        "\n",
        "**Ejemplo:**\n",
        "\n",
        "Las líneas indicadas con ```>>``` corresponden a *Inputs*. Las líneas sin indicaciones corresponden a *Outputs*:\n",
        "```\n",
        ">> 3 (cantidad total de productos)\n",
        ">> 000000123 (primer código)\n",
        ">> 1 (veces que hay que imprimir dicho código)\n",
        "000000123\n",
        ">> 123000789 (segundo código)\n",
        ">> 3\n",
        "123000789\n",
        "123000789\n",
        "123000789\n",
        ">> 000031416 (tercer código)\n",
        ">> 2\n",
        "000031416\n",
        "000031416\n",
        "```\n",
        "\n",
        "**Observación:**\n",
        "\n",
        "Los códigos se imprimen a medida que se ingresan, no es necesario guardar todos los códigos y sus cantidades e imprimirlos al final de la ejecución."
      ],
      "metadata": {
        "id": "Nq98T-Vo968R"
      }
    },
    {
      "cell_type": "code",
      "source": [
        "# Escribe el script a continuación:\n",
        "\n"
      ],
      "metadata": {
        "id": "U8U3-rMj-EtP"
      },
      "execution_count": null,
      "outputs": []
    }
  ]
}